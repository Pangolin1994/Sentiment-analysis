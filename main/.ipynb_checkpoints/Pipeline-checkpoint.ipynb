{
 "cells": [
  {
   "cell_type": "code",
   "execution_count": 1,
   "metadata": {},
   "outputs": [],
   "source": [
    "import numpy as np\n",
    "import pandas as pd\n",
    "import googlemaps\n",
    "from googlemaps.geocoding import geocode, reverse_geocode\n",
    "\n",
    "df = pd.read_csv('../data/Tweets.csv')\n",
    "# Удаляем столбец 'airline_sentiment_gold', содержащий информацию идентичную информации в столбце airline_sentiment\n",
    "df.drop(columns='airline_sentiment_gold', inplace=True)\n"
   ]
  },
  {
   "cell_type": "code",
   "execution_count": 2,
   "metadata": {},
   "outputs": [],
   "source": [
    "# В случае не негативного твита отсутствует причина негатива (значение NaN)\n",
    "# Установим отсутствие причины в столбце 'negativereason'\n",
    "df_noreason = df.query('negativereason.isnull().values')\n",
    "df.loc[df_noreason.index.values, 'negativereason'] = 'No reason'\n"
   ]
  },
  {
   "cell_type": "code",
   "execution_count": 3,
   "metadata": {},
   "outputs": [],
   "source": [
    "#\n",
    "df_noreason_conf = df.query('negativereason_confidence.isnull().values')\n",
    "df.loc[df_noreason_conf.index.values, 'negativereason_confidence'] = 0.0\n",
    "\n",
    "#\n",
    "df.rename(\n",
    "    columns={\n",
    "        'airline_sentiment': 'sentiment',\n",
    "        'airline_sentiment_confidence': 'sentiment_confidence'},\n",
    "    inplace=True)\n"
   ]
  },
  {
   "cell_type": "code",
   "execution_count": 4,
   "metadata": {},
   "outputs": [
    {
     "name": "stdout",
     "output_type": "stream",
     "text": [
      "4182\n"
     ]
    }
   ],
   "source": [
    "sentconf_freq = df.groupby('sentiment_confidence').count()['tweet_id']\n",
    "most_freq_conf = sentconf_freq.idxmax()\n",
    "sentconf_mean = df['sentiment_confidence'].mean()\n",
    "df_lessmean = df.query('sentiment_confidence < @sentconf_mean')\n",
    "print(len(df_lessmean))"
   ]
  },
  {
   "cell_type": "code",
   "execution_count": null,
   "metadata": {},
   "outputs": [],
   "source": []
  }
 ],
 "metadata": {
  "kernelspec": {
   "display_name": "Python 3",
   "language": "python",
   "name": "python3"
  },
  "language_info": {
   "codemirror_mode": {
    "name": "ipython",
    "version": 3
   },
   "file_extension": ".py",
   "mimetype": "text/x-python",
   "name": "python",
   "nbconvert_exporter": "python",
   "pygments_lexer": "ipython3",
   "version": "3.6.5"
  }
 },
 "nbformat": 4,
 "nbformat_minor": 2
}
